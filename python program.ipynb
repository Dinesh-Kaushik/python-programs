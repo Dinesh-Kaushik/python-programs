{
 "cells": [
  {
   "cell_type": "markdown",
   "id": "f9150b82",
   "metadata": {},
   "source": [
    "# Add two variables"
   ]
  },
  {
   "cell_type": "code",
   "execution_count": 7,
   "id": "ef9eba56",
   "metadata": {},
   "outputs": [
    {
     "name": "stdout",
     "output_type": "stream",
     "text": [
      "Enter first no:675655\n",
      "Enter second no:34535\n",
      "sum of two variables is 710190.0\n"
     ]
    }
   ],
   "source": [
    "x=float(input('Enter first no:'))\n",
    "y=float(input('Enter second no:'))\n",
    "Sum=x+y\n",
    "print('sum of two variables is',Sum)"
   ]
  },
  {
   "cell_type": "markdown",
   "id": "9f8e1476",
   "metadata": {},
   "source": [
    "# Multiply two variables"
   ]
  },
  {
   "cell_type": "code",
   "execution_count": 8,
   "id": "16c3649a",
   "metadata": {},
   "outputs": [
    {
     "name": "stdout",
     "output_type": "stream",
     "text": [
      "Enter first no:543444\n",
      "Enter second no:34344\n",
      "Product of two variables is 18664040736.0\n"
     ]
    }
   ],
   "source": [
    "x=float(input('Enter first no:'))\n",
    "y=float(input('Enter second no:'))\n",
    "product=x*y\n",
    "print('Product of two variables is',product)"
   ]
  },
  {
   "cell_type": "markdown",
   "id": "9ca9fda3",
   "metadata": {},
   "source": [
    "# Area of Triangle"
   ]
  },
  {
   "cell_type": "code",
   "execution_count": 9,
   "id": "9ea74349",
   "metadata": {},
   "outputs": [
    {
     "name": "stdout",
     "output_type": "stream",
     "text": [
      "Base of triangle:34343444\n",
      "Height of triangle:3432433\n",
      "Area of Triangle is 58940785259626.0\n"
     ]
    }
   ],
   "source": [
    "x=int(input('Base of triangle:'))\n",
    "y=int(input('Height of triangle:'))\n",
    "Area=1/2*x*y\n",
    "print('Area of Triangle is',Area)"
   ]
  },
  {
   "cell_type": "markdown",
   "id": "fdacee9a",
   "metadata": {},
   "source": [
    "# Swap two variable using 3rd variable"
   ]
  },
  {
   "cell_type": "code",
   "execution_count": 12,
   "id": "36fa8bcc",
   "metadata": {},
   "outputs": [
    {
     "name": "stdout",
     "output_type": "stream",
     "text": [
      "value of x now 8 and value of y 32\n"
     ]
    }
   ],
   "source": [
    "x=32\n",
    "y=8\n",
    "temp=x\n",
    "x=y\n",
    "y=temp\n",
    "print('value of x now {} and value of y {}'.format(x,y))"
   ]
  },
  {
   "cell_type": "markdown",
   "id": "727178de",
   "metadata": {},
   "source": [
    "# Swap two variable without using 3rd variable"
   ]
  },
  {
   "cell_type": "code",
   "execution_count": 13,
   "id": "2861baa3",
   "metadata": {},
   "outputs": [
    {
     "name": "stdout",
     "output_type": "stream",
     "text": [
      "value of x now 8 and value of y 32\n"
     ]
    }
   ],
   "source": [
    "x=32\n",
    "y=8\n",
    "x,y=y,x\n",
    "print('value of x now {} and value of y {}'.format(x,y))"
   ]
  },
  {
   "cell_type": "markdown",
   "id": "d5ab2b4c",
   "metadata": {},
   "source": [
    "# Convert KM to Miles"
   ]
  },
  {
   "cell_type": "code",
   "execution_count": 14,
   "id": "27ccf1e4",
   "metadata": {},
   "outputs": [
    {
     "name": "stdout",
     "output_type": "stream",
     "text": [
      "Enter your no in KM:65\n",
      "65 km in miles is equal to 40.625 miles\n"
     ]
    }
   ],
   "source": [
    "KM=int(input('Enter your no in KM:'))\n",
    "Miles=0.625*KM\n",
    "print(KM,'km in miles is equal to',Miles,'miles')"
   ]
  },
  {
   "cell_type": "markdown",
   "id": "594023c6",
   "metadata": {},
   "source": [
    "# Convert celcius to Fahrenheit"
   ]
  },
  {
   "cell_type": "code",
   "execution_count": 15,
   "id": "2526e1f5",
   "metadata": {},
   "outputs": [
    {
     "name": "stdout",
     "output_type": "stream",
     "text": [
      "Enter your no in celcius:67.9\n",
      "67.9 degree celcius in Fahrenheit is equal to 154.22 F\n"
     ]
    }
   ],
   "source": [
    "celcius=float(input('Enter your no in celcius:'))\n",
    "F=(celcius*9/5)+32\n",
    "print(celcius,'degree celcius in Fahrenheit is equal to',F,'F')"
   ]
  },
  {
   "cell_type": "markdown",
   "id": "437fcfc3",
   "metadata": {},
   "source": [
    "# Is a no. +ve , -ve , or 0"
   ]
  },
  {
   "cell_type": "code",
   "execution_count": 19,
   "id": "e573a529",
   "metadata": {},
   "outputs": [
    {
     "name": "stdout",
     "output_type": "stream",
     "text": [
      "Enter your no:-0.4\n",
      "It is -ve no.\n"
     ]
    }
   ],
   "source": [
    "num=float(input('Enter your no:'))\n",
    "if num<0:\n",
    "    print('It is -ve no.')\n",
    "elif num>0:\n",
    "    print('It is +ve no.')\n",
    "else:\n",
    "    print('It is 0')"
   ]
  },
  {
   "cell_type": "markdown",
   "id": "1f0a7bb7",
   "metadata": {},
   "source": [
    "# Check Even or Odd number"
   ]
  },
  {
   "cell_type": "code",
   "execution_count": 20,
   "id": "859208ae",
   "metadata": {},
   "outputs": [
    {
     "name": "stdout",
     "output_type": "stream",
     "text": [
      "Enter your no:876\n",
      "It is Even number\n"
     ]
    }
   ],
   "source": [
    "Num=int(input('Enter your no:'))\n",
    "if Num%2==0:\n",
    "    print('It is Even number')\n",
    "else:\n",
    "    print('It id Odd number')"
   ]
  },
  {
   "cell_type": "markdown",
   "id": "c890c0bc",
   "metadata": {},
   "source": [
    "# To check a Leap Year"
   ]
  },
  {
   "cell_type": "code",
   "execution_count": 22,
   "id": "22aafa20",
   "metadata": {},
   "outputs": [
    {
     "name": "stdout",
     "output_type": "stream",
     "text": [
      "Enter your year:1700\n",
      "It is not a Leap year\n"
     ]
    }
   ],
   "source": [
    "year=int(input('Enter your year:'))\n",
    "if year%4==0 and year%100!=0:\n",
    "    print('It is a Leap year')\n",
    "elif year%400==0 and year%100==0:\n",
    "    print('It is a Leap year')\n",
    "else:\n",
    "    print('It is not a Leap year')"
   ]
  },
  {
   "cell_type": "markdown",
   "id": "fe87005a",
   "metadata": {},
   "source": [
    "# Find the largest Number"
   ]
  },
  {
   "cell_type": "code",
   "execution_count": 23,
   "id": "643b44f4",
   "metadata": {},
   "outputs": [
    {
     "name": "stdout",
     "output_type": "stream",
     "text": [
      "Enter the 1st no:64554.85674\n",
      "Enter the 2nd no:64554.85673\n",
      "Enter the 3rd no:64554.856741\n",
      "Num3 is the largest number\n"
     ]
    }
   ],
   "source": [
    "Num1=float(input('Enter the 1st no:'))\n",
    "Num2=float(input('Enter the 2nd no:'))\n",
    "Num3=float(input('Enter the 3rd no:'))\n",
    "if (Num1>Num2) and (Num1>Num3):\n",
    "    print('Num1 is the largest number')\n",
    "elif (Num2>Num1) and (Num2>Num3):\n",
    "    print('Num2 is the largest number')\n",
    "else:\n",
    "    print('Num3 is the largest number')"
   ]
  },
  {
   "cell_type": "markdown",
   "id": "15c925fd",
   "metadata": {},
   "source": [
    "# To check the Prime Number"
   ]
  },
  {
   "cell_type": "code",
   "execution_count": 27,
   "id": "ede146eb",
   "metadata": {},
   "outputs": [
    {
     "name": "stdout",
     "output_type": "stream",
     "text": [
      "Enter your no:453\n",
      "Not a prime no\n"
     ]
    }
   ],
   "source": [
    "x=int(input('Enter your no:'))\n",
    "if x<=1:\n",
    "    print('Not a prime no')\n",
    "if x>=1:\n",
    "    for i in range(2,x):\n",
    "        if x%i==0:\n",
    "            print('Not a prime no')\n",
    "            break\n",
    "    else:\n",
    "        print('It is a Prime no')"
   ]
  },
  {
   "cell_type": "markdown",
   "id": "8ffbbd0d",
   "metadata": {},
   "source": [
    "# Print all Prime no. in a interval"
   ]
  },
  {
   "cell_type": "code",
   "execution_count": 8,
   "id": "e6730930",
   "metadata": {},
   "outputs": [
    {
     "name": "stdout",
     "output_type": "stream",
     "text": [
      "Enter the lower limit10\n",
      "Enter the upper limit17\n",
      "11\n",
      "13\n",
      "15\n",
      "17\n"
     ]
    }
   ],
   "source": [
    "lower_limit = int(input('Enter the lower limit'))\n",
    "upper_limit = int(input('Enter the upper limit'))\n",
    "for any_num in range(lower_limit,upper_limit+1):\n",
    "    if any_num>1:\n",
    "        for i in range(2,any_num):\n",
    "            if  any_num%2==0:\n",
    "                break\n",
    "        else:\n",
    "            print(any_num)"
   ]
  },
  {
   "cell_type": "markdown",
   "id": "b32470cf",
   "metadata": {},
   "source": [
    "# Display Power of n using Anonymous Function"
   ]
  },
  {
   "cell_type": "code",
   "execution_count": 17,
   "id": "1d8fa030",
   "metadata": {},
   "outputs": [
    {
     "name": "stdout",
     "output_type": "stream",
     "text": [
      "enter that no whose anonymous function you want3\n",
      "enter no of terms here5\n",
      "[1, 3, 9, 27, 81, 243]\n"
     ]
    }
   ],
   "source": [
    "n=int(input('enter that no whose anonymous function you want'))\n",
    "nterms=int(input('enter no of terms here'))\n",
    "lst=list(map(lambda nterms : n**nterms,range(nterms+1)))\n",
    "print(lst)"
   ]
  },
  {
   "cell_type": "markdown",
   "id": "0666d58e",
   "metadata": {},
   "source": [
    "# Find numbers which are divisible by a Particular number"
   ]
  },
  {
   "cell_type": "code",
   "execution_count": 30,
   "id": "ee571ebe",
   "metadata": {},
   "outputs": [
    {
     "name": "stdout",
     "output_type": "stream",
     "text": [
      "Enter that no. whose divisible no. you want:15\n",
      "15\n",
      "30\n",
      "45\n",
      "60\n",
      "75\n",
      "90\n"
     ]
    }
   ],
   "source": [
    "n=int(input('Enter that no. whose divisible no. you want:'))\n",
    "for i in range(1,100):\n",
    "    if i%n==0:\n",
    "        print(i)"
   ]
  },
  {
   "cell_type": "markdown",
   "id": "4549bb40",
   "metadata": {},
   "source": [
    "# Find numbers which are divisible by a Particular number using Anonymous Function"
   ]
  },
  {
   "cell_type": "code",
   "execution_count": 27,
   "id": "0af2bba1",
   "metadata": {},
   "outputs": [
    {
     "name": "stdout",
     "output_type": "stream",
     "text": [
      "Enter the lower limit no:45\n",
      "Enter the upper limit no:288\n",
      "Enter that no whose divisible no you want:14\n",
      "[56, 70, 84, 98, 112, 126, 140, 154, 168, 182, 196, 210, 224, 238, 252, 266, 280]\n"
     ]
    }
   ],
   "source": [
    "lower=int(input('Enter the lower limit no:'))\n",
    "upper=int(input('Enter the upper limit no:'))\n",
    "n=int(input('Enter that no whose divisible no you want:'))\n",
    "for num in range(lower,upper+1):\n",
    "    lst=list(filter(lambda num : num%n==0 ,range(lower,upper+1)))\n",
    "print(lst)"
   ]
  },
  {
   "cell_type": "markdown",
   "id": "a20aa88c",
   "metadata": {},
   "source": [
    "# Factorial of a Number using Recursion"
   ]
  },
  {
   "cell_type": "code",
   "execution_count": 3,
   "id": "705e429c",
   "metadata": {},
   "outputs": [
    {
     "name": "stdout",
     "output_type": "stream",
     "text": [
      "Enter a no:8\n",
      "Factorial of your no is 40320\n"
     ]
    }
   ],
   "source": [
    "def fact(a):\n",
    "    if a==0:\n",
    "        return 1\n",
    "    elif a<0:\n",
    "        print('No result for -ve no')\n",
    "    else:\n",
    "        return a*fact(a-1)\n",
    "a=int(input('Enter a no:'))\n",
    "result=fact(a)\n",
    "print('Factorial of your no is',result)\n",
    "        "
   ]
  },
  {
   "cell_type": "markdown",
   "id": "6e181b64",
   "metadata": {},
   "source": [
    "# Factorial of a Number using For Loop"
   ]
  },
  {
   "cell_type": "code",
   "execution_count": 7,
   "id": "efed2997",
   "metadata": {},
   "outputs": [
    {
     "name": "stdout",
     "output_type": "stream",
     "text": [
      "Enter a no:8\n",
      "Factorial of your no is 40320\n"
     ]
    }
   ],
   "source": [
    "n=int(input('Enter a no:'))\n",
    "fact=1\n",
    "if n==0:\n",
    "    print('factorial of 0 is',1)\n",
    "elif n<0:\n",
    "    print('Enter a +ve no')\n",
    "else:\n",
    "    for i in range(1,n+1):\n",
    "        fact=fact*i\n",
    "    print('Factorial of your no is',fact)"
   ]
  },
  {
   "cell_type": "markdown",
   "id": "fa010f18",
   "metadata": {},
   "source": [
    "# Multiplication Table using For Loop"
   ]
  },
  {
   "cell_type": "code",
   "execution_count": 8,
   "id": "fe5230bd",
   "metadata": {},
   "outputs": [
    {
     "name": "stdout",
     "output_type": "stream",
     "text": [
      "Enter that no whose table you want:2\n",
      "2\n",
      "4\n",
      "6\n",
      "8\n",
      "10\n",
      "12\n",
      "14\n",
      "16\n",
      "18\n",
      "20\n"
     ]
    }
   ],
   "source": [
    "n=int(input('Enter that no whose table you want:'))\n",
    "\n",
    "for i in range(1,11):\n",
    "    table=n*i\n",
    "    print(table)"
   ]
  },
  {
   "cell_type": "markdown",
   "id": "aba66b3e",
   "metadata": {},
   "source": [
    "# Multiplication Table using While Loop"
   ]
  },
  {
   "cell_type": "code",
   "execution_count": 9,
   "id": "3084c213",
   "metadata": {},
   "outputs": [
    {
     "name": "stdout",
     "output_type": "stream",
     "text": [
      "Enter that no whose table you want:2\n",
      "2\n",
      "4\n",
      "6\n",
      "8\n",
      "10\n",
      "12\n",
      "14\n",
      "16\n",
      "18\n",
      "20\n"
     ]
    }
   ],
   "source": [
    "n=int(input('Enter that no whose table you want:'))\n",
    "i=1\n",
    "while i<=10:\n",
    "    table=n*i\n",
    "    i=i+1\n",
    "    print(table)"
   ]
  },
  {
   "cell_type": "markdown",
   "id": "03341aa8",
   "metadata": {},
   "source": [
    "# Print Fibonacci Sequence"
   ]
  },
  {
   "cell_type": "code",
   "execution_count": 16,
   "id": "a037a0ee",
   "metadata": {},
   "outputs": [
    {
     "name": "stdout",
     "output_type": "stream",
     "text": [
      "Enter the no of terms of fibonacci seq :7\n",
      "0\n",
      "1\n",
      "1\n",
      "2\n",
      "3\n",
      "5\n",
      "8\n"
     ]
    }
   ],
   "source": [
    "a=0\n",
    "b=1\n",
    "term=int(input('Enter the no of terms of fibonacci seq :'))\n",
    "if term==1:\n",
    "    print(a)\n",
    "else:\n",
    "    print(a)\n",
    "    print(b)\n",
    "    for i in range(2,term):\n",
    "        c=a+b\n",
    "        a=b\n",
    "        b=c\n",
    "        print(c)"
   ]
  },
  {
   "cell_type": "markdown",
   "id": "e28a4b45",
   "metadata": {},
   "source": [
    "# Sum of Natural Number"
   ]
  },
  {
   "cell_type": "code",
   "execution_count": 23,
   "id": "78d0ad03",
   "metadata": {},
   "outputs": [
    {
     "name": "stdout",
     "output_type": "stream",
     "text": [
      "Enter your natural no:5\n",
      "15\n"
     ]
    }
   ],
   "source": [
    "n=int(input('Enter your natural no:'))\n",
    "Sum=0\n",
    "while n>0:\n",
    "    Sum=Sum+n\n",
    "    n=n-1\n",
    "print(Sum)"
   ]
  },
  {
   "cell_type": "markdown",
   "id": "9ec1dce2",
   "metadata": {},
   "source": [
    "# Convert decimal no into Octal,Binary,Hexadecimal number"
   ]
  },
  {
   "cell_type": "code",
   "execution_count": 32,
   "id": "561725d5",
   "metadata": {},
   "outputs": [
    {
     "name": "stdout",
     "output_type": "stream",
     "text": [
      "Enter a decimal no:5\n",
      "0b101 is the binary no of 5\n",
      "0o5 is the octal no of 5\n",
      "0x5 is the hexadecimal no of 5\n"
     ]
    }
   ],
   "source": [
    "decimal=int(input('Enter a decimal no:'))\n",
    "print(bin(decimal),'is the binary no of',decimal)\n",
    "print(oct(decimal),'is the octal no of',decimal)\n",
    "print(hex(decimal),'is the hexadecimal no of',decimal)"
   ]
  },
  {
   "cell_type": "markdown",
   "id": "1699a7ed",
   "metadata": {},
   "source": [
    "# Find ASCII value of characters"
   ]
  },
  {
   "cell_type": "code",
   "execution_count": 59,
   "id": "71d16643",
   "metadata": {},
   "outputs": [
    {
     "name": "stdout",
     "output_type": "stream",
     "text": [
      "Enter any character:y\n",
      "121 is the ASCII value of y\n"
     ]
    }
   ],
   "source": [
    "char=str(input('Enter any character:'))\n",
    "print(ord(char),'is the ASCII value of',char)"
   ]
  },
  {
   "cell_type": "markdown",
   "id": "0e557e3c",
   "metadata": {},
   "source": [
    "# Find HCF\\GCD of two numbers"
   ]
  },
  {
   "cell_type": "code",
   "execution_count": 69,
   "id": "ad903030",
   "metadata": {},
   "outputs": [
    {
     "name": "stdout",
     "output_type": "stream",
     "text": [
      "Enter 1st number:15\n",
      "Enter 2nd number:35\n"
     ]
    },
    {
     "data": {
      "text/plain": [
       "5"
      ]
     },
     "execution_count": 69,
     "metadata": {},
     "output_type": "execute_result"
    }
   ],
   "source": [
    "x=int(input('Enter 1st number:'))\n",
    "y=int(input('Enter 2nd number:'))\n",
    "def findhcf(x,y):\n",
    "    if x>y:\n",
    "        samller=y\n",
    "    else:\n",
    "        smaller=x\n",
    "        for i in range(1,smaller+1):\n",
    "            if ((x%i==0) and (y%i==0)):\n",
    "                hcf=i\n",
    "        return hcf\n",
    "findhcf(x,y)\n",
    "            \n",
    "        "
   ]
  },
  {
   "cell_type": "markdown",
   "id": "e43b09bc",
   "metadata": {},
   "source": [
    "# Simple Calculator"
   ]
  },
  {
   "cell_type": "code",
   "execution_count": 54,
   "id": "779a3259",
   "metadata": {},
   "outputs": [
    {
     "name": "stdout",
     "output_type": "stream",
     "text": [
      "enter 1st no:5\n",
      "enter 2nd no:5\n",
      "Press 1 for ADDITION\n",
      "Press 2 for SUBTRACTION\n",
      "Press 3 for MULTIPLICATION\n",
      "Press 4 for DIVISION\n",
      "Enter no between 1-44\n",
      "1.0\n"
     ]
    }
   ],
   "source": [
    "x=float(input('enter 1st no:'))\n",
    "y=float(input('enter 2nd no:'))\n",
    "print('Press 1 for ADDITION\\nPress 2 for SUBTRACTION\\nPress 3 for MULTIPLICATION\\nPress 4 for DIVISION')\n",
    "choice=int(input('Enter no between 1-4'))\n",
    "if choice==1:\n",
    "    print(x+y)\n",
    "elif choice==2:\n",
    "    print(x-y)\n",
    "elif choice==3:\n",
    "    print(x*y)\n",
    "elif choice==4:\n",
    "    print(x/y)\n",
    "else:\n",
    "    print('Enter a valid number')\n",
    "    "
   ]
  },
  {
   "cell_type": "markdown",
   "id": "8f35cf86",
   "metadata": {},
   "source": [
    "# Find the Factors of a Number"
   ]
  },
  {
   "cell_type": "code",
   "execution_count": 56,
   "id": "8af63793",
   "metadata": {},
   "outputs": [
    {
     "name": "stdout",
     "output_type": "stream",
     "text": [
      "Enter that no whose factors you want:34\n",
      "1\n",
      "2\n",
      "17\n",
      "34\n"
     ]
    }
   ],
   "source": [
    "n=int(input(\"Enter that no whose factors you want:\"))\n",
    "for i in range(1,n+1):\n",
    "    if n%i==0:\n",
    "        print(i)"
   ]
  },
  {
   "cell_type": "markdown",
   "id": "d19df9dd",
   "metadata": {},
   "source": [
    "# Shuffle Deck of Cards"
   ]
  },
  {
   "cell_type": "code",
   "execution_count": 28,
   "id": "85125be4",
   "metadata": {},
   "outputs": [
    {
     "name": "stdout",
     "output_type": "stream",
     "text": [
      "[(8, 'spade'), (2, 'diamond'), (6, 'club'), (4, 'heart'), (3, 'spade'), (9, 'spade'), (11, 'club'), (3, 'diamond'), (9, 'heart'), (7, 'heart'), (5, 'diamond'), (8, 'diamond'), (13, 'club'), (6, 'heart'), (9, 'club'), (12, 'heart'), (4, 'spade'), (5, 'club'), (1, 'diamond'), (7, 'spade'), (10, 'heart'), (6, 'diamond'), (4, 'club'), (8, 'club'), (3, 'club'), (12, 'club'), (2, 'heart'), (2, 'spade'), (12, 'spade'), (1, 'spade'), (11, 'diamond'), (10, 'spade'), (7, 'club'), (5, 'spade'), (2, 'club'), (7, 'diamond'), (4, 'diamond'), (10, 'diamond'), (12, 'diamond'), (3, 'heart'), (13, 'spade'), (9, 'diamond'), (13, 'diamond'), (10, 'club'), (8, 'heart'), (6, 'spade'), (1, 'heart'), (1, 'club'), (5, 'heart'), (11, 'heart'), (13, 'heart'), (11, 'spade')]\n",
      "First 5 shuffle cards are:-\n",
      "(8, 'spade')\n",
      "(2, 'diamond')\n",
      "(6, 'club')\n",
      "(4, 'heart')\n",
      "(3, 'spade')\n"
     ]
    }
   ],
   "source": [
    "import random,itertools\n",
    "deck=list(itertools.product(range(1,14),['spade','club','heart','diamond']))\n",
    "random.shuffle(deck)\n",
    "print(deck)\n",
    "\n",
    "\n",
    "print('First 5 shuffle cards are:-')\n",
    "for i in range(5):\n",
    "    print(deck[i])"
   ]
  },
  {
   "cell_type": "markdown",
   "id": "97316e4d",
   "metadata": {},
   "source": [
    "# Display Calender"
   ]
  },
  {
   "cell_type": "code",
   "execution_count": 34,
   "id": "613a898a",
   "metadata": {},
   "outputs": [
    {
     "name": "stdout",
     "output_type": "stream",
     "text": [
      "Enter the year:1998\n",
      "Enter the month:7\n",
      "     July 1998\n",
      "Mo Tu We Th Fr Sa Su\n",
      "       1  2  3  4  5\n",
      " 6  7  8  9 10 11 12\n",
      "13 14 15 16 17 18 19\n",
      "20 21 22 23 24 25 26\n",
      "27 28 29 30 31\n",
      "\n"
     ]
    }
   ],
   "source": [
    "import calendar\n",
    "year=int(input('Enter the year:'))\n",
    "month=int(input('Enter the month:'))\n",
    "c=calendar.month(year,month)\n",
    "print(c)\n"
   ]
  },
  {
   "cell_type": "markdown",
   "id": "dbd603e7",
   "metadata": {},
   "source": [
    "# Fibonacci Series using Recursion"
   ]
  },
  {
   "cell_type": "code",
   "execution_count": 35,
   "id": "6e5bddf8",
   "metadata": {},
   "outputs": [
    {
     "name": "stdout",
     "output_type": "stream",
     "text": [
      "jitne no tak ki series chahea vo no likho:5\n",
      "0\n",
      "1\n",
      "1\n",
      "2\n",
      "3\n"
     ]
    }
   ],
   "source": [
    "def febo(n):\n",
    "    if n<=1:\n",
    "        return n\n",
    "    else:\n",
    "        return febo(n-1)+febo(n-2)\n",
    "n=int(input('jitne no tak ki series chahea vo no likho:'))\n",
    "if n<=0:\n",
    "    print('Enter a positive no')\n",
    "else:\n",
    "    for i in range(n):\n",
    "        print(febo(i))"
   ]
  },
  {
   "cell_type": "markdown",
   "id": "08795c91",
   "metadata": {},
   "source": [
    "# Sum of Natural number Using Recursion"
   ]
  },
  {
   "cell_type": "code",
   "execution_count": 39,
   "id": "965ea603",
   "metadata": {},
   "outputs": [
    {
     "name": "stdout",
     "output_type": "stream",
     "text": [
      "jitne no tak sum chea vo no likho:5\n",
      "15\n"
     ]
    }
   ],
   "source": [
    "def snn(n):\n",
    "    if n<=0:\n",
    "        print('Enter natural no only')\n",
    "    elif n==1:\n",
    "        return n\n",
    "    else:\n",
    "        return n+snn(n-1)\n",
    "n=int(input('jitne no tak sum chea vo no likho:'))\n",
    "print(snn(n))"
   ]
  },
  {
   "cell_type": "markdown",
   "id": "055806eb",
   "metadata": {},
   "source": [
    "# Factorial using Recursion"
   ]
  },
  {
   "cell_type": "code",
   "execution_count": 41,
   "id": "35ff3264",
   "metadata": {},
   "outputs": [
    {
     "name": "stdout",
     "output_type": "stream",
     "text": [
      "jis no ka factorial chea vo no likho:5\n",
      "120\n"
     ]
    }
   ],
   "source": [
    "def fact(n):\n",
    "    if n<0:\n",
    "        print('Enter positive no only')\n",
    "    elif n==0:\n",
    "            return 1\n",
    "    elif n==1:\n",
    "            return 1\n",
    "    else:\n",
    "        return n*fact(n-1)\n",
    "n=int(input('jis no ka factorial chea vo no likho:'))\n",
    "print(fact(n))\n",
    "        "
   ]
  },
  {
   "cell_type": "markdown",
   "id": "9daab277",
   "metadata": {},
   "source": [
    "# Convert Decimal to Binary using Recursion"
   ]
  },
  {
   "cell_type": "code",
   "execution_count": 57,
   "id": "a3f4e028",
   "metadata": {},
   "outputs": [
    {
     "name": "stdout",
     "output_type": "stream",
     "text": [
      "Enter the decimal no:5\n",
      "1\n",
      "0\n",
      "1\n",
      "None\n"
     ]
    }
   ],
   "source": [
    "def bina(n):\n",
    "    if n>1:\n",
    "        bina(n//2)\n",
    "    print(n%2)\n",
    "n=int(input('Enter the decimal no:'))\n",
    "print(bina(n))"
   ]
  },
  {
   "cell_type": "markdown",
   "id": "1fd1e095",
   "metadata": {},
   "source": [
    "# Add two Matrices"
   ]
  },
  {
   "cell_type": "code",
   "execution_count": 69,
   "id": "4dcbb7f1",
   "metadata": {},
   "outputs": [
    {
     "name": "stdout",
     "output_type": "stream",
     "text": [
      "[[1 2 3]\n",
      " [4 5 6]\n",
      " [7 8 9]]\n",
      "[[11 12 13]\n",
      " [14 15 16]\n",
      " [17 18 19]]\n",
      "[[0. 0. 0.]\n",
      " [0. 0. 0.]\n",
      " [0. 0. 0.]]\n",
      "[[12. 14. 16.]\n",
      " [18. 20. 22.]\n",
      " [24. 26. 28.]]\n"
     ]
    }
   ],
   "source": [
    "import numpy as np\n",
    "A=np.arange(1,10).reshape(3,3)\n",
    "print(A)\n",
    "B=np.arange(11,20).reshape(3,3)\n",
    "print(B)\n",
    "R=np.zeros((3,3))\n",
    "print(R)\n",
    "for i in range(len(A)):\n",
    "    for j in range(len(A[0])):\n",
    "        R[i][j]=A[i][j]+B[i][j]\n",
    "print(R)"
   ]
  },
  {
   "cell_type": "markdown",
   "id": "b372619d",
   "metadata": {},
   "source": [
    "# Transpose of Matrice Using For Loop"
   ]
  },
  {
   "cell_type": "code",
   "execution_count": 70,
   "id": "13ab89ef",
   "metadata": {},
   "outputs": [
    {
     "name": "stdout",
     "output_type": "stream",
     "text": [
      "[[1 2 3]\n",
      " [4 5 6]\n",
      " [7 8 9]]\n",
      "[[0. 0. 0.]\n",
      " [0. 0. 0.]\n",
      " [0. 0. 0.]]\n",
      "[[1. 4. 7.]\n",
      " [2. 5. 8.]\n",
      " [3. 6. 9.]]\n"
     ]
    }
   ],
   "source": [
    "A=np.arange(1,10).reshape(3,3)\n",
    "print(A)\n",
    "T=np.zeros((3,3))\n",
    "print(T)\n",
    "for i in range(len(A)):\n",
    "    for j in range(len(A[0])):\n",
    "        T[i][j]=A[j][i]\n",
    "print(T)\n"
   ]
  },
  {
   "cell_type": "markdown",
   "id": "9465aa6f",
   "metadata": {},
   "source": [
    "# Transpose of Matrics using List Comprihension"
   ]
  },
  {
   "cell_type": "code",
   "execution_count": 78,
   "id": "53aba508",
   "metadata": {},
   "outputs": [
    {
     "name": "stdout",
     "output_type": "stream",
     "text": [
      "[[1 2 3]\n",
      " [4 5 6]\n",
      " [7 8 9]]\n",
      "[1, 4, 7]\n",
      "[2, 5, 8]\n",
      "[3, 6, 9]\n"
     ]
    }
   ],
   "source": [
    "A=np.arange(1,10).reshape(3,3)\n",
    "print(A)\n",
    "T=[[A[j][i] for j in range(len(A))] for i in range(len(A[0]))]\n",
    "\n",
    "for t in T:\n",
    "    print(t)"
   ]
  },
  {
   "cell_type": "markdown",
   "id": "ce87da54",
   "metadata": {},
   "source": [
    "# String is Palindrome or Not"
   ]
  },
  {
   "cell_type": "code",
   "execution_count": 80,
   "id": "168782f5",
   "metadata": {},
   "outputs": [
    {
     "name": "stdout",
     "output_type": "stream",
     "text": [
      "Enter any word here:sachin\n",
      "Not a Palindrome\n"
     ]
    }
   ],
   "source": [
    "char=input('Enter any word here:')\n",
    "reverse_slicing=char[::-1]\n",
    "if char==reverse_slicing:\n",
    "    print('yes it is Palindrome')\n",
    "else:\n",
    "    print('Not a Palindrome')"
   ]
  },
  {
   "cell_type": "markdown",
   "id": "455cf8cd",
   "metadata": {},
   "source": [
    "# Remove the Punctuation from the String"
   ]
  },
  {
   "cell_type": "code",
   "execution_count": 84,
   "id": "154f5212",
   "metadata": {},
   "outputs": [
    {
     "name": "stdout",
     "output_type": "stream",
     "text": [
      "Enter anything with punctuation:hiiii am Dinehs.....\n",
      "hiiii am Dinehs\n"
     ]
    }
   ],
   "source": [
    "punc=\"~`!@#$%^&*()_=[]{}|\\:;''\"\"?><.,/\"\n",
    "char=input('Enter anything with punctuation:')\n",
    "filtered_str=''\n",
    "for i in char:\n",
    "    if i not in punc:\n",
    "        filtered_str=filtered_str+i\n",
    "print(filtered_str)\n",
    "        \n",
    "        "
   ]
  },
  {
   "cell_type": "markdown",
   "id": "3f4e9e15",
   "metadata": {},
   "source": [
    "# illustrate the  Different SETS of operations  Like:-   Union, Intersection, Difference,Symmetric Difference"
   ]
  },
  {
   "cell_type": "code",
   "execution_count": 85,
   "id": "f3d01d9d",
   "metadata": {},
   "outputs": [
    {
     "name": "stdout",
     "output_type": "stream",
     "text": [
      "Union of A and B is {1, 2, 3, 4, 5, 7}\n",
      "Intersection of A and B is {2, 3}\n",
      "Difference of A and B is {1, 4}\n",
      "Symmetric Difference of A and B is {1, 4, 5, 7}\n"
     ]
    }
   ],
   "source": [
    "A={1,2,3,4}\n",
    "B={3,2,5,7}\n",
    "print(\"Union of A and B is\",A|B)\n",
    "print(\"Intersection of A and B is\",A&B)\n",
    "print(\"Difference of A and B is\",A-B)\n",
    "print(\"Symmetric Difference of A and B is\",A^B)"
   ]
  },
  {
   "cell_type": "markdown",
   "id": "670caacc",
   "metadata": {},
   "source": [
    "# Count the no of VOWELS"
   ]
  },
  {
   "cell_type": "code",
   "execution_count": 109,
   "id": "b2372b6d",
   "metadata": {},
   "outputs": [
    {
     "name": "stdout",
     "output_type": "stream",
     "text": [
      "Enter anything herejai sheya Ram\n",
      "{'a': 0, 'e': 0, 'i': 0, 'o': 0, 'u': 0}\n",
      "{'a': 3, 'e': 1, 'i': 1, 'o': 0, 'u': 0}\n"
     ]
    }
   ],
   "source": [
    "v='aeiou'\n",
    "char=input('Enter anything here')\n",
    "char=char.casefold()\n",
    "dic={}.fromkeys(v,0)\n",
    "print(dic)\n",
    "for i in char:\n",
    "    if i in dic:\n",
    "        dic[i]=dic[i]+1\n",
    "print(dic)"
   ]
  },
  {
   "cell_type": "markdown",
   "id": "374cc9f3",
   "metadata": {},
   "source": [
    "# Sort the Words in Alphabatic Order"
   ]
  },
  {
   "cell_type": "code",
   "execution_count": 114,
   "id": "a988af5c",
   "metadata": {},
   "outputs": [
    {
     "name": "stdout",
     "output_type": "stream",
     "text": [
      "Enter anything here:Dinesh And sachin are eating food\n",
      "['dinesh', 'and', 'sachin', 'are', 'eating', 'food']\n",
      "['and', 'are', 'dinesh', 'eating', 'food', 'sachin']\n"
     ]
    }
   ],
   "source": [
    "a=input('Enter anything here:')\n",
    "a=a.casefold()\n",
    "s=a.split()\n",
    "print(s)\n",
    "s.sort()\n",
    "print(s)\n",
    "    "
   ]
  },
  {
   "cell_type": "markdown",
   "id": "0b1f3e35",
   "metadata": {},
   "source": [
    "# Product of two Matrices"
   ]
  },
  {
   "cell_type": "code",
   "execution_count": 119,
   "id": "aa6f70ee",
   "metadata": {},
   "outputs": [
    {
     "name": "stdout",
     "output_type": "stream",
     "text": [
      "[[ 1  2  3]\n",
      " [ 4  5  6]\n",
      " [ 7  8  9]\n",
      " [10 11 12]]\n",
      "[[11 12 13]\n",
      " [14 15 16]\n",
      " [17 18 19]]\n",
      "[[0. 0. 0.]\n",
      " [0. 0. 0.]\n",
      " [0. 0. 0.]\n",
      " [0. 0. 0.]]\n",
      "[[ 90.  96. 102.]\n",
      " [216. 231. 246.]\n",
      " [342. 366. 390.]\n",
      " [468. 501. 534.]]\n"
     ]
    }
   ],
   "source": [
    "A=np.arange(1,13).reshape(4,3)\n",
    "print(A)\n",
    "B=np.arange(11,20).reshape(3,3)\n",
    "print(B)\n",
    "R=np.zeros((4,3))\n",
    "print(R)\n",
    "for i in range(len(A)):\n",
    "    for j in range(len(B[0])):\n",
    "        for k in range(len(B)):\n",
    "            R[i][j]=R[i][j]+A[i][k]*B[k][j]\n",
    "print(R)"
   ]
  },
  {
   "cell_type": "markdown",
   "id": "05f0a5e5",
   "metadata": {},
   "source": [
    "# Merging Two Dictionaries"
   ]
  },
  {
   "cell_type": "code",
   "execution_count": 1,
   "id": "8ff90d45",
   "metadata": {},
   "outputs": [
    {
     "name": "stdout",
     "output_type": "stream",
     "text": [
      "{'Ram': 100, 'sita': 101, 'Krishan': 100, 'Sita': 102, 'Radha': 102}\n"
     ]
    }
   ],
   "source": [
    "#Using Bar operator\n",
    "a={'Ram':100,'sita':101}\n",
    "b={'Krishan':100,'Sita':102,'Radha':102}\n",
    "print(a|b)"
   ]
  },
  {
   "cell_type": "code",
   "execution_count": 3,
   "id": "2db3b935",
   "metadata": {},
   "outputs": [
    {
     "name": "stdout",
     "output_type": "stream",
     "text": [
      "{'Ram': 100, 'sita': 101, 'Krishan': 100, 'Sita': 102, 'Radha': 102}\n"
     ]
    }
   ],
   "source": [
    "#Using Quacks Operator\n",
    "a={'Ram':100,'sita':101}\n",
    "b={'Krishan':100,'Sita':102,'Radha':102}\n",
    "print({**a,**b})"
   ]
  },
  {
   "cell_type": "code",
   "execution_count": 5,
   "id": "6f082671",
   "metadata": {},
   "outputs": [
    {
     "name": "stdout",
     "output_type": "stream",
     "text": [
      "{'Ram': 100, 'sita': 101, 'Krishan': 100, 'Sita': 102, 'Radha': 102}\n"
     ]
    }
   ],
   "source": [
    "#Using Copy and Update\n",
    "a={'Ram':100,'sita':101}\n",
    "b={'Krishan':100,'Sita':102,'Radha':102}\n",
    "l=a.copy()\n",
    "l.update(b)\n",
    "print(l)\n"
   ]
  },
  {
   "cell_type": "code",
   "execution_count": 1,
   "id": "1f680bcc",
   "metadata": {},
   "outputs": [
    {
     "name": "stdout",
     "output_type": "stream",
     "text": [
      "plum\n",
      "there is no match\n",
      "there is no match\n",
      "there is no match\n",
      "p\n"
     ]
    }
   ],
   "source": [
    "x=[\"ramlu\",\"plum\",\"dinesh\"]\n",
    "y=\"dinesh\"\n",
    "for l in x:\n",
    "    if len(y)>len(l):\n",
    "        y=l\n",
    "print(y)\n",
    " \n",
    "k=0\n",
    "allmatch=True\n",
    "l=\"\"\n",
    "for i in y:\n",
    "    if allmatch:\n",
    "        l=l+i\n",
    "    else:\n",
    "        print(\"there is no match\")\n",
    "    for j in range(len(x)):\n",
    "        if i!=x[j][k]:\n",
    "            k=k+1\n",
    "            allmatch=False\n",
    "            break\n",
    "print(l)"
   ]
  },
  {
   "cell_type": "code",
   "execution_count": 3,
   "id": "76ce4dd0",
   "metadata": {},
   "outputs": [
    {
     "name": "stdout",
     "output_type": "stream",
     "text": [
      "[1, 2]\n",
      "None\n"
     ]
    }
   ],
   "source": [
    "def jood(lst):\n",
    "    target=18\n",
    "    lengthoflist=len(lst)\n",
    "    for i in range(lengthoflist):\n",
    "        for j in range(i,lengthoflist):\n",
    "            if lst[i]+lst[j] == target:\n",
    "                print([i,j])\n",
    "lst=[2,7,11,15]\n",
    "print(jood(lst))"
   ]
  },
  {
   "cell_type": "code",
   "execution_count": 4,
   "id": "016aee48",
   "metadata": {},
   "outputs": [
    {
     "name": "stdout",
     "output_type": "stream",
     "text": [
      "[1, 2]\n"
     ]
    }
   ],
   "source": [
    "lst=[12,5,11,18]\n",
    "target=16\n",
    "lengthoflist=len(lst)\n",
    "for i in range(lengthoflist):\n",
    "    for j in range(i,lengthoflist):\n",
    "        if lst[i]+lst[j] == target:\n",
    "            print([i,j])"
   ]
  },
  {
   "cell_type": "code",
   "execution_count": 19,
   "id": "e2d56555",
   "metadata": {},
   "outputs": [
    {
     "data": {
      "text/plain": [
       "[5, 4, 3, 2, 1]"
      ]
     },
     "execution_count": 19,
     "metadata": {},
     "output_type": "execute_result"
    }
   ],
   "source": [
    "a=[1,2,3,4,5]\n",
    "a.reverse()\n",
    "a"
   ]
  },
  {
   "cell_type": "code",
   "execution_count": 2,
   "id": "6c78893f",
   "metadata": {},
   "outputs": [
    {
     "name": "stdout",
     "output_type": "stream",
     "text": [
      "Enter a number 6\n",
      "42\n"
     ]
    }
   ],
   "source": [
    "sq=lambda n:n**2\n",
    "mod=lambda func:lambda num:func(num)+num\n",
    "var=mod(sq)\n",
    "print(var(int(input('Enter a number '))))"
   ]
  },
  {
   "cell_type": "code",
   "execution_count": 8,
   "id": "b9d8f503",
   "metadata": {},
   "outputs": [],
   "source": [
    "def bonus():\n",
    "    bon=2000\n",
    "    return bon\n",
    "def total(bonus):\n",
    "    slary=4000\n",
    "    total=bonus+slary\n",
    "    \n",
    "    print(total)"
   ]
  },
  {
   "cell_type": "code",
   "execution_count": 9,
   "id": "9608b11d",
   "metadata": {},
   "outputs": [
    {
     "name": "stdout",
     "output_type": "stream",
     "text": [
      "6000\n"
     ]
    }
   ],
   "source": [
    "def bonus():\n",
    "    bon=2000\n",
    "    return bon\n",
    "def total(b):\n",
    "    slary=4000\n",
    "    total=b()+slary\n",
    "    \n",
    "    print(total)\n",
    "total(bonus)"
   ]
  }
 ],
 "metadata": {
  "kernelspec": {
   "display_name": "Python 3 (ipykernel)",
   "language": "python",
   "name": "python3"
  },
  "language_info": {
   "codemirror_mode": {
    "name": "ipython",
    "version": 3
   },
   "file_extension": ".py",
   "mimetype": "text/x-python",
   "name": "python",
   "nbconvert_exporter": "python",
   "pygments_lexer": "ipython3",
   "version": "3.9.13"
  }
 },
 "nbformat": 4,
 "nbformat_minor": 5
}
